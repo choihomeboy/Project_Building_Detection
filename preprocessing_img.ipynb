{
 "cells": [
  {
   "cell_type": "code",
   "execution_count": 1,
   "metadata": {},
   "outputs": [],
   "source": [
    "import os\n",
    "import pprint\n",
    "import pathlib\n",
    "\n",
    "import matplotlib\n",
    "matplotlib.use('Qt5Agg')\n",
    "\n",
    "import matplotlib.pyplot as plt\n",
    "\n",
    "import numpy as np\n",
    "from skimage import color\n",
    "from skimage import io\n",
    "from skimage.feature import canny\n",
    "from scipy import ndimage as ndi\n",
    "from skimage import morphology\n",
    "\n",
    "DATA_PATH = pathlib.Path('./img_data')\n",
    "\n",
    "file_list = os.listdir(DATA_PATH.as_posix())\n",
    "\n",
    "n = 1000\n",
    "time_out = 100000000\n"
   ]
  },
  {
   "cell_type": "code",
   "execution_count": null,
   "metadata": {},
   "outputs": [],
   "source": [
    "list1=[]\n",
    "for file in file_list:\n",
    "    if file[0] =='.':\n",
    "        continue\n",
    "    \n",
    "    file_name = DATA_PATH / file\n",
    "    img = plt.imread(file_name)\n",
    "    plt.imshow(img)\n",
    "#     plt.show()\n",
    "    points = plt.ginput(n, timeout=time_out)\n",
    "    plt.close()\n",
    "    print(points, \"\\n\")\n",
    "    list1.append(points)\n",
    "    \n",
    "# img = plt.imread('./img_data/buildings.jpg')\n",
    "# bin_img = color.rgb2gray(img)\n",
    "# edges = canny(bin_img)\n",
    "# fill_sponge = ndi.binary_fill_holes(edges)\n",
    "# new_img = morphology.remove_small_objects(fill_sponge, 20)\n",
    "# plt.imshow(new_img)\n",
    "# plt.show()\n",
    "\n",
    "# list1.append(list1[0])"
   ]
  },
  {
   "cell_type": "code",
   "execution_count": null,
   "metadata": {},
   "outputs": [],
   "source": [
    "list1[0].append(list1[0][0])"
   ]
  },
  {
   "cell_type": "code",
   "execution_count": null,
   "metadata": {},
   "outputs": [],
   "source": [
    "points_arr = np.asarray(list1[0])\n",
    "# points_arr = np.concatenate([np.asarray(li)[np.newaxis] for li in points[0]], axis=0)\n",
    "print(points_arr.shape)"
   ]
  },
  {
   "cell_type": "code",
   "execution_count": null,
   "metadata": {},
   "outputs": [],
   "source": [
    "points_arr[:,0]"
   ]
  },
  {
   "cell_type": "code",
   "execution_count": null,
   "metadata": {},
   "outputs": [],
   "source": [
    "from scipy.spatial import ConvexHull\n",
    "hull = ConvexHull(points_arr)\n",
    "#print(hull.vertices)\n",
    "file_name = DATA_PATH / \"buildings.jpg\"\n",
    "img = plt.imread(file_name)\n",
    "#plt.imshow(img)\n",
    "\n",
    "fig, ax = plt.subplots()\n",
    "same_size_img = np.zeros_like(img)\n",
    "ax.imshow(same_size_img)\n",
    "print(points_arr)\n",
    "ax.plot(points_arr[:,0], points_arr[:,1],'w')\n",
    "plt.axis('off')\n",
    "# for simplex in hull.simplices:\n",
    "# #     print(simplex)\n",
    "#     ax.plot(points_arr[simplex, 0], points_arr[simplex, 1],'r-')\n",
    "# print(points_arr[simplex, 0])\n",
    "# print(points_arr.shape)\n",
    "# print(points_arr[simplex, 1])\n",
    "plt.show()\n",
    "fig.savefig(\"result.png\", frameon=False)"
   ]
  },
  {
   "cell_type": "code",
   "execution_count": null,
   "metadata": {},
   "outputs": [],
   "source": [
    "from skimage.filters import sobel\n",
    "bin_img = color.rgb2gray(img)\n",
    "elevation_map = sobel(bin_img)\n",
    "fig, ax = plt.subplots()\n",
    "ax.imshow(elevation_map)\n",
    "plt.show()"
   ]
  },
  {
   "cell_type": "code",
   "execution_count": 16,
   "metadata": {},
   "outputs": [],
   "source": [
    "file_name = \"result2.png\"\n",
    "img = plt.imread(file_name)\n",
    "plt.imshow(img)\n",
    "plt.show()\n",
    "plt.close()"
   ]
  },
  {
   "cell_type": "code",
   "execution_count": 17,
   "metadata": {},
   "outputs": [],
   "source": [
    "img=np.around(img)"
   ]
  },
  {
   "cell_type": "code",
   "execution_count": 18,
   "metadata": {},
   "outputs": [
    {
     "data": {
      "text/plain": [
       "1.0"
      ]
     },
     "execution_count": 18,
     "metadata": {},
     "output_type": "execute_result"
    }
   ],
   "source": [
    "np.max(img)"
   ]
  },
  {
   "cell_type": "code",
   "execution_count": 19,
   "metadata": {},
   "outputs": [],
   "source": [
    "plt.imshow(img)\n",
    "plt.show()\n",
    "plt.close()"
   ]
  },
  {
   "cell_type": "code",
   "execution_count": 21,
   "metadata": {},
   "outputs": [
    {
     "data": {
      "text/plain": [
       "0.0"
      ]
     },
     "execution_count": 21,
     "metadata": {},
     "output_type": "execute_result"
    }
   ],
   "source": [
    "np.min(img)"
   ]
  }
 ],
 "metadata": {
  "kernelspec": {
   "display_name": "Python 3",
   "language": "python",
   "name": "python3"
  },
  "language_info": {
   "codemirror_mode": {
    "name": "ipython",
    "version": 3
   },
   "file_extension": ".py",
   "mimetype": "text/x-python",
   "name": "python",
   "nbconvert_exporter": "python",
   "pygments_lexer": "ipython3",
   "version": "3.7.1"
  }
 },
 "nbformat": 4,
 "nbformat_minor": 2
}
